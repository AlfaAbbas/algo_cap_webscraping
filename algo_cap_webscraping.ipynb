{
 "cells": [
  {
   "cell_type": "markdown",
   "metadata": {},
   "source": [
    "**STEP-BY-STEP WEB SCRAPING WEBSITE NILAI TUKAR JPY TERHADAP IDR**"
   ]
  },
  {
   "cell_type": "markdown",
   "metadata": {},
   "source": [
    "#### Mengambil konten website nilai tukar JPY terhadap IDR dari URL MonexNews\n",
    "- Konten website yang diambil disimpan di `url_get`\n",
    "- Informasi nilai tukar yang diambil adalah selama periode bulan Januari s.d. Desember 2019"
   ]
  },
  {
   "cell_type": "code",
   "execution_count": 1,
   "metadata": {},
   "outputs": [],
   "source": [
    "import requests\n",
    "\n",
    "url_get = requests.get(\"https://monexnews.com/kurs-valuta-asing.htm?kurs=JPY&searchdatefrom=01-01-2019&searchdateto=31-12-2019\")"
   ]
  },
  {
   "cell_type": "markdown",
   "metadata": {},
   "source": [
    "#### Melihat konten website yang diambil dari URL\n",
    "- Konten website yang diambil dalam format HTML\n",
    "- Menggunakan `.content` untuk melihat konten yang tersimpan di `url_get`\n",
    "- Jumlah karakter yang ditampilkan dibatasi sebanyak 500 karakter"
   ]
  },
  {
   "cell_type": "code",
   "execution_count": 2,
   "metadata": {},
   "outputs": [
    {
     "data": {
      "text/plain": [
       "b'!DOCTYPE html PUBLIC \"-//W3C//DTD XHTML 1.0 Transitional//EN\" \"http://www.w3.org/TR/xhtml1/DTD/xhtml1-transitional.dtd\">\\n<html xmlns=\"http://www.w3.org/1999/xhtml\">\\n<head>\\n<meta http-equiv=\"Content-Language\" content=\"en,in\" />\\n<link rel=\"alternate\" href=\"https://news.mifx.com/kurs-valuta-asing.php\" hreflang=\"en-ID\" />\\n<base href=\"https://news.mifx.com/\" target=\"_self\" />\\n<title>Kurs Dollar | USD | Nilai Tukar Dollar Hari Ini</title>\\n<meta property=\"og:title\" content=\"Kurs Dollar | USD | Nilai T'"
      ]
     },
     "execution_count": 2,
     "metadata": {},
     "output_type": "execute_result"
    }
   ],
   "source": [
    "url_get.content[1:500]"
   ]
  },
  {
   "cell_type": "markdown",
   "metadata": {},
   "source": [
    "#### Menggunakan package BeautifulSoup untuk membuat class BeautifulSoup yang kemudian menghasilkan sebuah object BeautifulSoup\n",
    "- `BeautifulSoup` dapat mengubah format dokumen HTML yang kompleks menjadi susunan object Python yang terstruktur dan mudah dibaca"
   ]
  },
  {
   "cell_type": "code",
   "execution_count": 3,
   "metadata": {},
   "outputs": [
    {
     "name": "stdout",
     "output_type": "stream",
     "text": [
      "<class 'bs4.BeautifulSoup'>\n"
     ]
    }
   ],
   "source": [
    "from bs4 import BeautifulSoup \n",
    "\n",
    "soup = BeautifulSoup(url_get.content,\"html.parser\")\n",
    "print(type(soup))"
   ]
  },
  {
   "cell_type": "markdown",
   "metadata": {},
   "source": [
    "#### Memanfaatkan method di BeautifulSoup untuk merapikan format konten HTML yang telah diambil dari URL\n",
    "- `.prettify` merupakan method di `BeatifulSoup` yang dapat menjadikan konten HTML lebih rapi, terstruktur, dan mudah dibaca sebagaimana terlampir di bawah"
   ]
  },
  {
   "cell_type": "code",
   "execution_count": 4,
   "metadata": {},
   "outputs": [
    {
     "name": "stdout",
     "output_type": "stream",
     "text": [
      "<!DOCTYPE html PUBLIC \"-//W3C//DTD XHTML 1.0 Transitional//EN\" \"http://www.w3.org/TR/xhtml1/DTD/xhtml1-transitional.dtd\">\n",
      "<html xmlns=\"http://www.w3.org/1999/xhtml\">\n",
      " <head>\n",
      "  <meta content=\"en,in\" http-equiv=\"Content-Language\"/>\n",
      "  <link href=\"https://news.mifx.com/kurs-valuta-asing.php\" hreflang=\"en-ID\" rel=\"alternate\"/>\n",
      "  <base href=\"https://news.mifx.com/\" target=\"_self\"/>\n",
      "  <title>\n",
      "   Kurs Dollar | USD | Nilai Tukar Dollar Hari Ini\n",
      "  </title>\n",
      "  <meta content=\"Kurs Dollar | USD | Nilai Tukar Dollar Hari Ini\" property=\"og:title\"/>\n",
      "  <meta content=\"Nilai tukar rupiah terhadap dollar hari ini berdasarkan kurs tengah Bank Indonesia. \" name=\"description\"/>\n",
      "  <meta content=\"Nilai tukar rupiah terhadap dollar hari ini berdasarkan kurs tengah Bank Indonesia. \" property=\"og:description\"/>\n",
      "  <meta content=\"Broker Terbaik, Trading Forex, Trading Teregulasi, Trading Online, Monex, mifx,\" name=\"keywords\"/>\n",
      "  <meta content=\"favicon.jpg?v=1570462055\" property=\"og:image\"/>\n",
      "  <meta content=\"Ultimaen\n"
     ]
    }
   ],
   "source": [
    "print(soup.prettify()[:1000])"
   ]
  },
  {
   "cell_type": "markdown",
   "metadata": {},
   "source": [
    "#### Mengidentifikasi elemen HTML yang perlu diambil untuk proses scraping\n",
    "- Dalam hal ini elemen yang perlu diambil adalah tabel nilai tukar\n",
    "- Tabel nilai tukar di HTML merupakan sebuah `class` dengan nama `table`"
   ]
  },
  {
   "cell_type": "code",
   "execution_count": 5,
   "metadata": {},
   "outputs": [
    {
     "name": "stdout",
     "output_type": "stream",
     "text": [
      "table cellpadding=\"10\" cellspacing=\"0\" class=\"centerText newsTable2\" width=\"100%\">\n",
      " <tr class=\"colorWhite fontsize14 firstRow\">\n",
      "  <td>\n",
      "   TANGGAL\n",
      "  </td>\n",
      "  <td>\n",
      "   ASK\n",
      "  </td>\n",
      "  <td>\n",
      "   BID\n",
      "  </td>\n",
      " </tr>\n",
      " <tr class=\"verySoftGreyBg\">\n",
      "  <td>\n",
      "   31 Desember 2019\n",
      "  </td>\n",
      "  <td>\n",
      "   128,62\n",
      "  </td>\n",
      "  <td>\n",
      "   127,32\n",
      "  </td>\n",
      " </tr>\n",
      " <tr>\n",
      "  <td>\n",
      "   30 Desember 2019\n",
      "  </td>\n",
      "  <td>\n",
      "   128,30\n",
      "  </td>\n",
      "  <td>\n",
      "   127,02\n",
      "  </td>\n",
      " </tr>\n",
      " <tr class=\"verySoftGreyBg\">\n",
      "  <td>\n",
      "   27 Desember 2019\n",
      "  </td>\n",
      "  <td>\n",
      "   1\n"
     ]
    }
   ],
   "source": [
    "table = soup.find('table', attrs={'class':'centerText newsTable2'})\n",
    "print(table.prettify()[1:500])"
   ]
  },
  {
   "cell_type": "markdown",
   "metadata": {},
   "source": [
    "#### Mengidentifikasi informasi yang dibutuhkan dari tabel untuk proses scraping\n",
    "- Informasi yang dibutuhkan ada di elemen `tr` (table row)\n",
    "- Menggunakan `.find_all` untuk mencari semua elemen `tr` pada tabel"
   ]
  },
  {
   "cell_type": "code",
   "execution_count": 6,
   "metadata": {},
   "outputs": [
    {
     "data": {
      "text/plain": [
       "[<tr class=\"colorWhite fontsize14 firstRow\">\n",
       " <td>TANGGAL</td>\n",
       " <td>ASK</td>\n",
       " <td>BID</td>\n",
       " </tr>,\n",
       " <tr class=\"verySoftGreyBg\">\n",
       " <td>31 Desember 2019</td>\n",
       " <td>128,62</td>\n",
       " <td>127,32</td>\n",
       " </tr>]"
      ]
     },
     "execution_count": 6,
     "metadata": {},
     "output_type": "execute_result"
    }
   ],
   "source": [
    "tr = table.find_all('tr')\n",
    "tr[:2] # just call 2 founded tr"
   ]
  },
  {
   "cell_type": "markdown",
   "metadata": {},
   "source": [
    "#### Proses scraping dengan cara looping setiap baris (`tr`) untuk mengambil informasi `tanggal`, `kurs_jual` (ask), dan `kurs_beli` (bid)\n",
    "- Hasil scraping disimpan dalam bentuk tuple\n",
    "- Urutan baris informasi sesuai dengan dengan konten website (dimulai dari bulan Desember)"
   ]
  },
  {
   "cell_type": "code",
   "execution_count": 7,
   "metadata": {},
   "outputs": [
    {
     "data": {
      "text/plain": [
       "[('31 Desember 2019', '128,62', '127,32'),\n",
       " ('30 Desember 2019', '128,30', '127,02'),\n",
       " ('27 Desember 2019', '128,11', '126,83'),\n",
       " ('26 Desember 2019', '128,27', '126,98'),\n",
       " ('23 Desember 2019', '128,39', '127,10'),\n",
       " ('20 Desember 2019', '128,63', '127,34'),\n",
       " ('19 Desember 2019', '128,24', '126,93'),\n",
       " ('18 Desember 2019', '128,64', '127,32'),\n",
       " ('17 Desember 2019', '128,62', '127,33'),\n",
       " ('16 Desember 2019', '128,67', '127,36'),\n",
       " ('13 Desember 2019', '128,30', '127,02'),\n",
       " ('12 Desember 2019', '130,04', '128,71'),\n",
       " ('11 Desember 2019', '129,65', '128,34'),\n",
       " ('10 Desember 2019', '129,56', '128,26'),\n",
       " ('09 Desember 2019', '129,76', '128,44'),\n",
       " ('06 Desember 2019', '129,78', '128,45'),\n",
       " ('05 Desember 2019', '130,10', '128,77'),\n",
       " ('04 Desember 2019', '130,79', '129,45'),\n",
       " ('03 Desember 2019', '130,15', '128,82'),\n",
       " ('02 Desember 2019', '129,36', '128,04'),\n",
       " ('29 November 2019', '129,44', '128,12'),\n",
       " ('28 November 2019', '129,47', '128,15'),\n",
       " ('27 November 2019', '129,84', '128,53'),\n",
       " ('26 November 2019', '129,82', '128,49'),\n",
       " ('25 November 2019', '130,20', '128,89'),\n",
       " ('22 November 2019', '130,44', '129,10'),\n",
       " ('21 November 2019', '130,73', '129,39'),\n",
       " ('20 November 2019', '130,56', '129,23'),\n",
       " ('19 November 2019', '130,34', '129,03'),\n",
       " ('18 November 2019', '130,02', '128,70'),\n",
       " ('15 November 2019', '130,23', '128,90'),\n",
       " ('14 November 2019', '130,34', '129,01'),\n",
       " ('13 November 2019', '129,86', '128,53'),\n",
       " ('12 November 2019', '129,45', '128,15'),\n",
       " ('11 November 2019', '129,37', '128,07'),\n",
       " ('08 November 2019', '129,03', '127,73'),\n",
       " ('07 November 2019', '129,71', '128,41'),\n",
       " ('06 November 2019', '128,96', '127,64'),\n",
       " ('05 November 2019', '129,67', '128,34'),\n",
       " ('04 November 2019', '130,04', '128,71'),\n",
       " ('01 November 2019', '130,88', '129,54'),\n",
       " ('31 Oktober 2019', '129,57', '128,25'),\n",
       " ('30 Oktober 2019', '129,67', '128,34'),\n",
       " ('29 Oktober 2019', '129,39', '128,09'),\n",
       " ('28 Oktober 2019', '129,57', '128,27'),\n",
       " ('25 Oktober 2019', '130,11', '128,78'),\n",
       " ('24 Oktober 2019', '129,52', '128,22'),\n",
       " ('23 Oktober 2019', '130,35', '129,05'),\n",
       " ('22 Oktober 2019', '130,06', '128,73'),\n",
       " ('21 Oktober 2019', '130,94', '129,60'),\n",
       " ('18 Oktober 2019', '130,91', '129,60'),\n",
       " ('17 Oktober 2019', '130,94', '129,61'),\n",
       " ('16 Oktober 2019', '131,20', '129,89'),\n",
       " ('15 Oktober 2019', '131,19', '129,87'),\n",
       " ('14 Oktober 2019', '131,11', '129,77'),\n",
       " ('11 Oktober 2019', '131,66', '130,31'),\n",
       " ('10 Oktober 2019', '132,29', '130,94'),\n",
       " ('09 Oktober 2019', '133,01', '131,64'),\n",
       " ('08 Oktober 2019', '132,68', '131,32'),\n",
       " ('07 Oktober 2019', '133,19', '131,83'),\n",
       " ('04 Oktober 2019', '133,05', '131,71'),\n",
       " ('03 Oktober 2019', '133,13', '131,80'),\n",
       " ('02 Oktober 2019', '132,55', '131,19'),\n",
       " ('01 Oktober 2019', '131,87', '130,52'),\n",
       " ('30 September 2019', '132,03', '130,68'),\n",
       " ('27 September 2019', '132,49', '131,14'),\n",
       " ('26 September 2019', '132,20', '130,86'),\n",
       " ('25 September 2019', '132,44', '131,07'),\n",
       " ('24 September 2019', '131,73', '130,39'),\n",
       " ('23 September 2019', '131,37', '130,03'),\n",
       " ('20 September 2019', '131,14', '129,80'),\n",
       " ('19 September 2019', '131,00', '129,69'),\n",
       " ('18 September 2019', '130,75', '129,43'),\n",
       " ('17 September 2019', '131,09', '129,75'),\n",
       " ('16 September 2019', '130,78', '129,47'),\n",
       " ('13 September 2019', '129,63', '128,30'),\n",
       " ('12 September 2019', '130,75', '129,42'),\n",
       " ('11 September 2019', '131,30', '129,96'),\n",
       " ('10 September 2019', '131,34', '130,00'),\n",
       " ('09 September 2019', '132,50', '131,16'),\n",
       " ('06 September 2019', '132,73', '131,39'),\n",
       " ('05 September 2019', '133,37', '132,00'),\n",
       " ('04 September 2019', '134,85', '133,47'),\n",
       " ('03 September 2019', '134,39', '133,01'),\n",
       " ('02 September 2019', '134,30', '132,92'),\n",
       " ('30 Agustus 2019', '134,33', '132,96'),\n",
       " ('29 Agustus 2019', '135,32', '133,95'),\n",
       " ('28 Agustus 2019', '135,51', '134,15'),\n",
       " ('27 Agustus 2019', '135,32', '133,94'),\n",
       " ('26 Agustus 2019', '136,20', '134,81'),\n",
       " ('23 Agustus 2019', '134,45', '133,08'),\n",
       " ('22 Agustus 2019', '134,38', '133,01'),\n",
       " ('21 Agustus 2019', '134,63', '133,26'),\n",
       " ('20 Agustus 2019', '134,48', '133,14'),\n",
       " ('19 Agustus 2019', '134,29', '132,93'),\n",
       " ('16 Agustus 2019', '134,86', '133,51'),\n",
       " ('15 Agustus 2019', '135,65', '134,27'),\n",
       " ('14 Agustus 2019', '134,60', '133,24'),\n",
       " ('13 Agustus 2019', '136,19', '134,80'),\n",
       " ('12 Agustus 2019', '135,50', '134,14'),\n",
       " ('09 Agustus 2019', '134,60', '133,25'),\n",
       " ('08 Agustus 2019', '134,67', '133,30'),\n",
       " ('07 Agustus 2019', '135,34', '133,96'),\n",
       " ('06 Agustus 2019', '135,85', '134,48'),\n",
       " ('05 Agustus 2019', '134,95', '133,57'),\n",
       " ('02 Agustus 2019', '133,31', '131,95'),\n",
       " ('01 Agustus 2019', '129,80', '128,49'),\n",
       " ('31 Juli 2019', '129,87', '128,54'),\n",
       " ('30 Juli 2019', '129,68', '128,36'),\n",
       " ('29 Juli 2019', '129,81', '128,48'),\n",
       " ('26 Juli 2019', '129,56', '128,23'),\n",
       " ('25 Juli 2019', '129,98', '128,65'),\n",
       " ('24 Juli 2019', '130,15', '128,84'),\n",
       " ('23 Juli 2019', '130,00', '128,67'),\n",
       " ('22 Juli 2019', '129,98', '128,65'),\n",
       " ('19 Juli 2019', '130,04', '128,72'),\n",
       " ('18 Juli 2019', '130,45', '129,14'),\n",
       " ('17 Juli 2019', '129,63', '128,30'),\n",
       " ('16 Juli 2019', '129,62', '128,30'),\n",
       " ('15 Juli 2019', '129,93', '128,60'),\n",
       " ('12 Juli 2019', '130,67', '129,35'),\n",
       " ('11 Juli 2019', '131,10', '129,77'),\n",
       " ('10 Juli 2019', '130,61', '129,27'),\n",
       " ('09 Juli 2019', '130,49', '129,15'),\n",
       " ('08 Juli 2019', '131,13', '129,80'),\n",
       " ('05 Juli 2019', '131,87', '130,54'),\n",
       " ('04 Juli 2019', '131,60', '130,24'),\n",
       " ('03 Juli 2019', '132,30', '130,94'),\n",
       " ('02 Juli 2019', '131,09', '129,75'),\n",
       " ('01 Juli 2019', '131,12', '129,77'),\n",
       " ('28 Juni 2019', '132,07', '130,71'),\n",
       " ('27 Juni 2019', '131,98', '130,63'),\n",
       " ('26 Juni 2019', '132,56', '131,20'),\n",
       " ('25 Juni 2019', '132,65', '131,28'),\n",
       " ('24 Juni 2019', '132,61', '131,25'),\n",
       " ('21 Juni 2019', '132,42', '131,05'),\n",
       " ('20 Juni 2019', '132,78', '131,43'),\n",
       " ('19 Juni 2019', '132,20', '130,85'),\n",
       " ('18 Juni 2019', '133,01', '131,64'),\n",
       " ('17 Juni 2019', '132,79', '131,42'),\n",
       " ('14 Juni 2019', '132,73', '131,36'),\n",
       " ('13 Juni 2019', '132,53', '131,18'),\n",
       " ('12 Juni 2019', '131,88', '130,56'),\n",
       " ('11 Juni 2019', '131,96', '130,64'),\n",
       " ('10 Juni 2019', '131,84', '130,49'),\n",
       " ('31 Mei 2019', '132,32', '130,96'),\n",
       " ('29 Mei 2019', '132,48', '131,15'),\n",
       " ('28 Mei 2019', '132,02', '130,69'),\n",
       " ('27 Mei 2019', '131,86', '130,51'),\n",
       " ('24 Mei 2019', '132,51', '131,16'),\n",
       " ('23 Mei 2019', '132,34', '130,98'),\n",
       " ('22 Mei 2019', '131,71', '130,37'),\n",
       " ('21 Mei 2019', '131,94', '130,60'),\n",
       " ('20 Mei 2019', '132,03', '130,69'),\n",
       " ('17 Mei 2019', '132,30', '130,95'),\n",
       " ('16 Mei 2019', '132,73', '131,40'),\n",
       " ('15 Mei 2019', '132,51', '131,16'),\n",
       " ('14 Mei 2019', '132,48', '131,16'),\n",
       " ('13 Mei 2019', '131,54', '130,19'),\n",
       " ('10 Mei 2019', '131,14', '129,80'),\n",
       " ('09 Mei 2019', '131,14', '129,80'),\n",
       " ('08 Mei 2019', '130,69', '129,34'),\n",
       " ('07 Mei 2019', '129,91', '128,60'),\n",
       " ('06 Mei 2019', '130,14', '128,80'),\n",
       " ('03 Mei 2019', '128,83', '127,52'),\n",
       " ('02 Mei 2019', '128,31', '127,01'),\n",
       " ('30 April 2019', '128,02', '126,72'),\n",
       " ('29 April 2019', '127,77', '126,49'),\n",
       " ('26 April 2019', '127,70', '126,42'),\n",
       " ('25 April 2019', '127,11', '125,82'),\n",
       " ('24 April 2019', '126,78', '125,49'),\n",
       " ('23 April 2019', '126,60', '125,31'),\n",
       " ('22 April 2019', '126,20', '124,91'),\n",
       " ('18 April 2019', '125,84', '124,55'),\n",
       " ('16 April 2019', '126,30', '125,02'),\n",
       " ('15 April 2019', '126,25', '124,96'),\n",
       " ('12 April 2019', '127,35', '126,06'),\n",
       " ('11 April 2019', '128,15', '126,83'),\n",
       " ('10 April 2019', '128,00', '126,69'),\n",
       " ('09 April 2019', '127,75', '126,46'),\n",
       " ('08 April 2019', '127,60', '126,29'),\n",
       " ('05 April 2019', '127,41', '126,11'),\n",
       " ('04 April 2019', '127,92', '126,61'),\n",
       " ('02 April 2019', '128,55', '127,24'),\n",
       " ('01 April 2019', '128,68', '127,37'),\n",
       " ('29 Maret 2019', '129,21', '127,92'),\n",
       " ('28 Maret 2019', '130,04', '128,72'),\n",
       " ('27 Maret 2019', '129,19', '127,88'),\n",
       " ('26 Maret 2019', '129,38', '128,07'),\n",
       " ('25 Maret 2019', '130,23', '128,90'),\n",
       " ('22 Maret 2019', '128,50', '127,19'),\n",
       " ('21 Maret 2019', '128,16', '126,84'),\n",
       " ('20 Maret 2019', '128,14', '126,86'),\n",
       " ('19 Maret 2019', '128,60', '127,30'),\n",
       " ('18 Maret 2019', '128,26', '126,96'),\n",
       " ('15 Maret 2019', '128,69', '127,36'),\n",
       " ('14 Maret 2019', '128,55', '127,24'),\n",
       " ('13 Maret 2019', '129,01', '127,70'),\n",
       " ('12 Maret 2019', '128,56', '127,25'),\n",
       " ('11 Maret 2019', '129,64', '128,33'),\n",
       " ('08 Maret 2019', '128,19', '126,88'),\n",
       " ('06 Maret 2019', '127,01', '125,73'),\n",
       " ('05 Maret 2019', '127,10', '125,82'),\n",
       " ('04 Maret 2019', '127,04', '125,74'),\n",
       " ('01 Maret 2019', '126,99', '125,67'),\n",
       " ('28 Februari 2019', '127,46', '126,19'),\n",
       " ('27 Februari 2019', '127,29', '125,99'),\n",
       " ('26 Februari 2019', '126,92', '125,61'),\n",
       " ('25 Februari 2019', '127,16', '125,89'),\n",
       " ('22 Februari 2019', '127,77', '126,47'),\n",
       " ('21 Februari 2019', '127,57', '126,29'),\n",
       " ('20 Februari 2019', '127,45', '126,15'),\n",
       " ('19 Februari 2019', '128,42', '127,10'),\n",
       " ('18 Februari 2019', '128,26', '126,97'),\n",
       " ('15 Februari 2019', '128,61', '127,31'),\n",
       " ('14 Februari 2019', '127,61', '126,33'),\n",
       " ('13 Februari 2019', '127,47', '126,18'),\n",
       " ('12 Februari 2019', '128,16', '126,88'),\n",
       " ('11 Februari 2019', '128,07', '126,79'),\n",
       " ('08 Februari 2019', '128,15', '126,85'),\n",
       " ('07 Februari 2019', '127,92', '126,63'),\n",
       " ('06 Februari 2019', '127,81', '126,52'),\n",
       " ('04 Februari 2019', '128,24', '126,95'),\n",
       " ('01 Februari 2019', '129,05', '127,75'),\n",
       " ('31 Januari 2019', '129,92', '128,60'),\n",
       " ('30 Januari 2019', '129,79', '128,47'),\n",
       " ('29 Januari 2019', '129,74', '128,43'),\n",
       " ('28 Januari 2019', '128,97', '127,65'),\n",
       " ('25 Januari 2019', '129,68', '128,37'),\n",
       " ('24 Januari 2019', '129,79', '128,48'),\n",
       " ('23 Januari 2019', '130,05', '128,75'),\n",
       " ('22 Januari 2019', '130,39', '129,07'),\n",
       " ('21 Januari 2019', '130,31', '128,98'),\n",
       " ('18 Januari 2019', '130,37', '129,03'),\n",
       " ('17 Januari 2019', '130,61', '129,27'),\n",
       " ('16 Januari 2019', '131,11', '129,75'),\n",
       " ('15 Januari 2019', '130,56', '129,23'),\n",
       " ('14 Januari 2019', '130,52', '129,19'),\n",
       " ('11 Januari 2019', '130,62', '129,31'),\n",
       " ('10 Januari 2019', '131,22', '129,88'),\n",
       " ('09 Januari 2019', '130,31', '129,00'),\n",
       " ('08 Januari 2019', '129,84', '128,52'),\n",
       " ('07 Januari 2019', '130,86', '129,51'),\n",
       " ('04 Januari 2019', '133,51', '132,17'),\n",
       " ('03 Januari 2019', '135,44', '134,08'),\n",
       " ('02 Januari 2019', '132,89', '131,54')]"
      ]
     },
     "execution_count": 7,
     "metadata": {},
     "output_type": "execute_result"
    }
   ],
   "source": [
    "temp = [] #initiating a tuple\n",
    "\n",
    "for i in range(1, len(tr)):\n",
    "    row = table.find_all('tr')[i]\n",
    "    \n",
    "    #get tanggal\n",
    "    tanggal = row.find_all('td')[0].text\n",
    "    tanggal = tanggal.strip() #remove excess whitespace\n",
    "    tanggal = tanggal.replace(u'\\xa0', u' ')\n",
    "    \n",
    "    #get kurs jual (ask)\n",
    "    kurs_jual = row.find_all('td')[1].text\n",
    "    kurs_jual = kurs_jual.strip() #remove excess whitespace\n",
    "    \n",
    "    #get kurs beli (bid)\n",
    "    kurs_beli = row.find_all('td')[2].text\n",
    "    kurs_beli = kurs_beli.strip() #remove excess whitespace\n",
    "    \n",
    "    temp.append((tanggal, kurs_jual, kurs_beli)) \n",
    "    \n",
    "temp "
   ]
  },
  {
   "cell_type": "markdown",
   "metadata": {},
   "source": [
    "#### Membalik urutan baris informasi dalam tuple agar dimulai dari bulan Januari\n",
    "- Tujuannya agar dapat menghasilkan grafik yang informatif\n",
    "- Format grafik tahunan pada umumnya dimulai dari bulan Januari"
   ]
  },
  {
   "cell_type": "code",
   "execution_count": 8,
   "metadata": {},
   "outputs": [
    {
     "data": {
      "text/plain": [
       "[('02 Januari 2019', '132,89', '131,54'),\n",
       " ('03 Januari 2019', '135,44', '134,08'),\n",
       " ('04 Januari 2019', '133,51', '132,17'),\n",
       " ('07 Januari 2019', '130,86', '129,51'),\n",
       " ('08 Januari 2019', '129,84', '128,52'),\n",
       " ('09 Januari 2019', '130,31', '129,00'),\n",
       " ('10 Januari 2019', '131,22', '129,88'),\n",
       " ('11 Januari 2019', '130,62', '129,31'),\n",
       " ('14 Januari 2019', '130,52', '129,19'),\n",
       " ('15 Januari 2019', '130,56', '129,23'),\n",
       " ('16 Januari 2019', '131,11', '129,75'),\n",
       " ('17 Januari 2019', '130,61', '129,27'),\n",
       " ('18 Januari 2019', '130,37', '129,03'),\n",
       " ('21 Januari 2019', '130,31', '128,98'),\n",
       " ('22 Januari 2019', '130,39', '129,07'),\n",
       " ('23 Januari 2019', '130,05', '128,75'),\n",
       " ('24 Januari 2019', '129,79', '128,48'),\n",
       " ('25 Januari 2019', '129,68', '128,37'),\n",
       " ('28 Januari 2019', '128,97', '127,65'),\n",
       " ('29 Januari 2019', '129,74', '128,43'),\n",
       " ('30 Januari 2019', '129,79', '128,47'),\n",
       " ('31 Januari 2019', '129,92', '128,60'),\n",
       " ('01 Februari 2019', '129,05', '127,75'),\n",
       " ('04 Februari 2019', '128,24', '126,95'),\n",
       " ('06 Februari 2019', '127,81', '126,52'),\n",
       " ('07 Februari 2019', '127,92', '126,63'),\n",
       " ('08 Februari 2019', '128,15', '126,85'),\n",
       " ('11 Februari 2019', '128,07', '126,79'),\n",
       " ('12 Februari 2019', '128,16', '126,88'),\n",
       " ('13 Februari 2019', '127,47', '126,18'),\n",
       " ('14 Februari 2019', '127,61', '126,33'),\n",
       " ('15 Februari 2019', '128,61', '127,31'),\n",
       " ('18 Februari 2019', '128,26', '126,97'),\n",
       " ('19 Februari 2019', '128,42', '127,10'),\n",
       " ('20 Februari 2019', '127,45', '126,15'),\n",
       " ('21 Februari 2019', '127,57', '126,29'),\n",
       " ('22 Februari 2019', '127,77', '126,47'),\n",
       " ('25 Februari 2019', '127,16', '125,89'),\n",
       " ('26 Februari 2019', '126,92', '125,61'),\n",
       " ('27 Februari 2019', '127,29', '125,99'),\n",
       " ('28 Februari 2019', '127,46', '126,19'),\n",
       " ('01 Maret 2019', '126,99', '125,67'),\n",
       " ('04 Maret 2019', '127,04', '125,74'),\n",
       " ('05 Maret 2019', '127,10', '125,82'),\n",
       " ('06 Maret 2019', '127,01', '125,73'),\n",
       " ('08 Maret 2019', '128,19', '126,88'),\n",
       " ('11 Maret 2019', '129,64', '128,33'),\n",
       " ('12 Maret 2019', '128,56', '127,25'),\n",
       " ('13 Maret 2019', '129,01', '127,70'),\n",
       " ('14 Maret 2019', '128,55', '127,24'),\n",
       " ('15 Maret 2019', '128,69', '127,36'),\n",
       " ('18 Maret 2019', '128,26', '126,96'),\n",
       " ('19 Maret 2019', '128,60', '127,30'),\n",
       " ('20 Maret 2019', '128,14', '126,86'),\n",
       " ('21 Maret 2019', '128,16', '126,84'),\n",
       " ('22 Maret 2019', '128,50', '127,19'),\n",
       " ('25 Maret 2019', '130,23', '128,90'),\n",
       " ('26 Maret 2019', '129,38', '128,07'),\n",
       " ('27 Maret 2019', '129,19', '127,88'),\n",
       " ('28 Maret 2019', '130,04', '128,72'),\n",
       " ('29 Maret 2019', '129,21', '127,92'),\n",
       " ('01 April 2019', '128,68', '127,37'),\n",
       " ('02 April 2019', '128,55', '127,24'),\n",
       " ('04 April 2019', '127,92', '126,61'),\n",
       " ('05 April 2019', '127,41', '126,11'),\n",
       " ('08 April 2019', '127,60', '126,29'),\n",
       " ('09 April 2019', '127,75', '126,46'),\n",
       " ('10 April 2019', '128,00', '126,69'),\n",
       " ('11 April 2019', '128,15', '126,83'),\n",
       " ('12 April 2019', '127,35', '126,06'),\n",
       " ('15 April 2019', '126,25', '124,96'),\n",
       " ('16 April 2019', '126,30', '125,02'),\n",
       " ('18 April 2019', '125,84', '124,55'),\n",
       " ('22 April 2019', '126,20', '124,91'),\n",
       " ('23 April 2019', '126,60', '125,31'),\n",
       " ('24 April 2019', '126,78', '125,49'),\n",
       " ('25 April 2019', '127,11', '125,82'),\n",
       " ('26 April 2019', '127,70', '126,42'),\n",
       " ('29 April 2019', '127,77', '126,49'),\n",
       " ('30 April 2019', '128,02', '126,72'),\n",
       " ('02 Mei 2019', '128,31', '127,01'),\n",
       " ('03 Mei 2019', '128,83', '127,52'),\n",
       " ('06 Mei 2019', '130,14', '128,80'),\n",
       " ('07 Mei 2019', '129,91', '128,60'),\n",
       " ('08 Mei 2019', '130,69', '129,34'),\n",
       " ('09 Mei 2019', '131,14', '129,80'),\n",
       " ('10 Mei 2019', '131,14', '129,80'),\n",
       " ('13 Mei 2019', '131,54', '130,19'),\n",
       " ('14 Mei 2019', '132,48', '131,16'),\n",
       " ('15 Mei 2019', '132,51', '131,16'),\n",
       " ('16 Mei 2019', '132,73', '131,40'),\n",
       " ('17 Mei 2019', '132,30', '130,95'),\n",
       " ('20 Mei 2019', '132,03', '130,69'),\n",
       " ('21 Mei 2019', '131,94', '130,60'),\n",
       " ('22 Mei 2019', '131,71', '130,37'),\n",
       " ('23 Mei 2019', '132,34', '130,98'),\n",
       " ('24 Mei 2019', '132,51', '131,16'),\n",
       " ('27 Mei 2019', '131,86', '130,51'),\n",
       " ('28 Mei 2019', '132,02', '130,69'),\n",
       " ('29 Mei 2019', '132,48', '131,15'),\n",
       " ('31 Mei 2019', '132,32', '130,96'),\n",
       " ('10 Juni 2019', '131,84', '130,49'),\n",
       " ('11 Juni 2019', '131,96', '130,64'),\n",
       " ('12 Juni 2019', '131,88', '130,56'),\n",
       " ('13 Juni 2019', '132,53', '131,18'),\n",
       " ('14 Juni 2019', '132,73', '131,36'),\n",
       " ('17 Juni 2019', '132,79', '131,42'),\n",
       " ('18 Juni 2019', '133,01', '131,64'),\n",
       " ('19 Juni 2019', '132,20', '130,85'),\n",
       " ('20 Juni 2019', '132,78', '131,43'),\n",
       " ('21 Juni 2019', '132,42', '131,05'),\n",
       " ('24 Juni 2019', '132,61', '131,25'),\n",
       " ('25 Juni 2019', '132,65', '131,28'),\n",
       " ('26 Juni 2019', '132,56', '131,20'),\n",
       " ('27 Juni 2019', '131,98', '130,63'),\n",
       " ('28 Juni 2019', '132,07', '130,71'),\n",
       " ('01 Juli 2019', '131,12', '129,77'),\n",
       " ('02 Juli 2019', '131,09', '129,75'),\n",
       " ('03 Juli 2019', '132,30', '130,94'),\n",
       " ('04 Juli 2019', '131,60', '130,24'),\n",
       " ('05 Juli 2019', '131,87', '130,54'),\n",
       " ('08 Juli 2019', '131,13', '129,80'),\n",
       " ('09 Juli 2019', '130,49', '129,15'),\n",
       " ('10 Juli 2019', '130,61', '129,27'),\n",
       " ('11 Juli 2019', '131,10', '129,77'),\n",
       " ('12 Juli 2019', '130,67', '129,35'),\n",
       " ('15 Juli 2019', '129,93', '128,60'),\n",
       " ('16 Juli 2019', '129,62', '128,30'),\n",
       " ('17 Juli 2019', '129,63', '128,30'),\n",
       " ('18 Juli 2019', '130,45', '129,14'),\n",
       " ('19 Juli 2019', '130,04', '128,72'),\n",
       " ('22 Juli 2019', '129,98', '128,65'),\n",
       " ('23 Juli 2019', '130,00', '128,67'),\n",
       " ('24 Juli 2019', '130,15', '128,84'),\n",
       " ('25 Juli 2019', '129,98', '128,65'),\n",
       " ('26 Juli 2019', '129,56', '128,23'),\n",
       " ('29 Juli 2019', '129,81', '128,48'),\n",
       " ('30 Juli 2019', '129,68', '128,36'),\n",
       " ('31 Juli 2019', '129,87', '128,54'),\n",
       " ('01 Agustus 2019', '129,80', '128,49'),\n",
       " ('02 Agustus 2019', '133,31', '131,95'),\n",
       " ('05 Agustus 2019', '134,95', '133,57'),\n",
       " ('06 Agustus 2019', '135,85', '134,48'),\n",
       " ('07 Agustus 2019', '135,34', '133,96'),\n",
       " ('08 Agustus 2019', '134,67', '133,30'),\n",
       " ('09 Agustus 2019', '134,60', '133,25'),\n",
       " ('12 Agustus 2019', '135,50', '134,14'),\n",
       " ('13 Agustus 2019', '136,19', '134,80'),\n",
       " ('14 Agustus 2019', '134,60', '133,24'),\n",
       " ('15 Agustus 2019', '135,65', '134,27'),\n",
       " ('16 Agustus 2019', '134,86', '133,51'),\n",
       " ('19 Agustus 2019', '134,29', '132,93'),\n",
       " ('20 Agustus 2019', '134,48', '133,14'),\n",
       " ('21 Agustus 2019', '134,63', '133,26'),\n",
       " ('22 Agustus 2019', '134,38', '133,01'),\n",
       " ('23 Agustus 2019', '134,45', '133,08'),\n",
       " ('26 Agustus 2019', '136,20', '134,81'),\n",
       " ('27 Agustus 2019', '135,32', '133,94'),\n",
       " ('28 Agustus 2019', '135,51', '134,15'),\n",
       " ('29 Agustus 2019', '135,32', '133,95'),\n",
       " ('30 Agustus 2019', '134,33', '132,96'),\n",
       " ('02 September 2019', '134,30', '132,92'),\n",
       " ('03 September 2019', '134,39', '133,01'),\n",
       " ('04 September 2019', '134,85', '133,47'),\n",
       " ('05 September 2019', '133,37', '132,00'),\n",
       " ('06 September 2019', '132,73', '131,39'),\n",
       " ('09 September 2019', '132,50', '131,16'),\n",
       " ('10 September 2019', '131,34', '130,00'),\n",
       " ('11 September 2019', '131,30', '129,96'),\n",
       " ('12 September 2019', '130,75', '129,42'),\n",
       " ('13 September 2019', '129,63', '128,30'),\n",
       " ('16 September 2019', '130,78', '129,47'),\n",
       " ('17 September 2019', '131,09', '129,75'),\n",
       " ('18 September 2019', '130,75', '129,43'),\n",
       " ('19 September 2019', '131,00', '129,69'),\n",
       " ('20 September 2019', '131,14', '129,80'),\n",
       " ('23 September 2019', '131,37', '130,03'),\n",
       " ('24 September 2019', '131,73', '130,39'),\n",
       " ('25 September 2019', '132,44', '131,07'),\n",
       " ('26 September 2019', '132,20', '130,86'),\n",
       " ('27 September 2019', '132,49', '131,14'),\n",
       " ('30 September 2019', '132,03', '130,68'),\n",
       " ('01 Oktober 2019', '131,87', '130,52'),\n",
       " ('02 Oktober 2019', '132,55', '131,19'),\n",
       " ('03 Oktober 2019', '133,13', '131,80'),\n",
       " ('04 Oktober 2019', '133,05', '131,71'),\n",
       " ('07 Oktober 2019', '133,19', '131,83'),\n",
       " ('08 Oktober 2019', '132,68', '131,32'),\n",
       " ('09 Oktober 2019', '133,01', '131,64'),\n",
       " ('10 Oktober 2019', '132,29', '130,94'),\n",
       " ('11 Oktober 2019', '131,66', '130,31'),\n",
       " ('14 Oktober 2019', '131,11', '129,77'),\n",
       " ('15 Oktober 2019', '131,19', '129,87'),\n",
       " ('16 Oktober 2019', '131,20', '129,89'),\n",
       " ('17 Oktober 2019', '130,94', '129,61'),\n",
       " ('18 Oktober 2019', '130,91', '129,60'),\n",
       " ('21 Oktober 2019', '130,94', '129,60'),\n",
       " ('22 Oktober 2019', '130,06', '128,73'),\n",
       " ('23 Oktober 2019', '130,35', '129,05'),\n",
       " ('24 Oktober 2019', '129,52', '128,22'),\n",
       " ('25 Oktober 2019', '130,11', '128,78'),\n",
       " ('28 Oktober 2019', '129,57', '128,27'),\n",
       " ('29 Oktober 2019', '129,39', '128,09'),\n",
       " ('30 Oktober 2019', '129,67', '128,34'),\n",
       " ('31 Oktober 2019', '129,57', '128,25'),\n",
       " ('01 November 2019', '130,88', '129,54'),\n",
       " ('04 November 2019', '130,04', '128,71'),\n",
       " ('05 November 2019', '129,67', '128,34'),\n",
       " ('06 November 2019', '128,96', '127,64'),\n",
       " ('07 November 2019', '129,71', '128,41'),\n",
       " ('08 November 2019', '129,03', '127,73'),\n",
       " ('11 November 2019', '129,37', '128,07'),\n",
       " ('12 November 2019', '129,45', '128,15'),\n",
       " ('13 November 2019', '129,86', '128,53'),\n",
       " ('14 November 2019', '130,34', '129,01'),\n",
       " ('15 November 2019', '130,23', '128,90'),\n",
       " ('18 November 2019', '130,02', '128,70'),\n",
       " ('19 November 2019', '130,34', '129,03'),\n",
       " ('20 November 2019', '130,56', '129,23'),\n",
       " ('21 November 2019', '130,73', '129,39'),\n",
       " ('22 November 2019', '130,44', '129,10'),\n",
       " ('25 November 2019', '130,20', '128,89'),\n",
       " ('26 November 2019', '129,82', '128,49'),\n",
       " ('27 November 2019', '129,84', '128,53'),\n",
       " ('28 November 2019', '129,47', '128,15'),\n",
       " ('29 November 2019', '129,44', '128,12'),\n",
       " ('02 Desember 2019', '129,36', '128,04'),\n",
       " ('03 Desember 2019', '130,15', '128,82'),\n",
       " ('04 Desember 2019', '130,79', '129,45'),\n",
       " ('05 Desember 2019', '130,10', '128,77'),\n",
       " ('06 Desember 2019', '129,78', '128,45'),\n",
       " ('09 Desember 2019', '129,76', '128,44'),\n",
       " ('10 Desember 2019', '129,56', '128,26'),\n",
       " ('11 Desember 2019', '129,65', '128,34'),\n",
       " ('12 Desember 2019', '130,04', '128,71'),\n",
       " ('13 Desember 2019', '128,30', '127,02'),\n",
       " ('16 Desember 2019', '128,67', '127,36'),\n",
       " ('17 Desember 2019', '128,62', '127,33'),\n",
       " ('18 Desember 2019', '128,64', '127,32'),\n",
       " ('19 Desember 2019', '128,24', '126,93'),\n",
       " ('20 Desember 2019', '128,63', '127,34'),\n",
       " ('23 Desember 2019', '128,39', '127,10'),\n",
       " ('26 Desember 2019', '128,27', '126,98'),\n",
       " ('27 Desember 2019', '128,11', '126,83'),\n",
       " ('30 Desember 2019', '128,30', '127,02'),\n",
       " ('31 Desember 2019', '128,62', '127,32')]"
      ]
     },
     "execution_count": 8,
     "metadata": {},
     "output_type": "execute_result"
    }
   ],
   "source": [
    "temp = temp[::-1]\n",
    "temp"
   ]
  },
  {
   "cell_type": "markdown",
   "metadata": {},
   "source": [
    "#### Menyimpan hasil scraping dalam bentuk `DataFrame` `Pandas`"
   ]
  },
  {
   "cell_type": "code",
   "execution_count": 9,
   "metadata": {},
   "outputs": [
    {
     "data": {
      "text/html": [
       "<div>\n",
       "<style scoped>\n",
       "    .dataframe tbody tr th:only-of-type {\n",
       "        vertical-align: middle;\n",
       "    }\n",
       "\n",
       "    .dataframe tbody tr th {\n",
       "        vertical-align: top;\n",
       "    }\n",
       "\n",
       "    .dataframe thead th {\n",
       "        text-align: right;\n",
       "    }\n",
       "</style>\n",
       "<table border=\"1\" class=\"dataframe\">\n",
       "  <thead>\n",
       "    <tr style=\"text-align: right;\">\n",
       "      <th></th>\n",
       "      <th>tanggal</th>\n",
       "      <th>kurs_jual</th>\n",
       "      <th>kurs_beli</th>\n",
       "    </tr>\n",
       "  </thead>\n",
       "  <tbody>\n",
       "    <tr>\n",
       "      <th>0</th>\n",
       "      <td>02 Januari 2019</td>\n",
       "      <td>132,89</td>\n",
       "      <td>131,54</td>\n",
       "    </tr>\n",
       "    <tr>\n",
       "      <th>1</th>\n",
       "      <td>03 Januari 2019</td>\n",
       "      <td>135,44</td>\n",
       "      <td>134,08</td>\n",
       "    </tr>\n",
       "    <tr>\n",
       "      <th>2</th>\n",
       "      <td>04 Januari 2019</td>\n",
       "      <td>133,51</td>\n",
       "      <td>132,17</td>\n",
       "    </tr>\n",
       "    <tr>\n",
       "      <th>3</th>\n",
       "      <td>07 Januari 2019</td>\n",
       "      <td>130,86</td>\n",
       "      <td>129,51</td>\n",
       "    </tr>\n",
       "    <tr>\n",
       "      <th>4</th>\n",
       "      <td>08 Januari 2019</td>\n",
       "      <td>129,84</td>\n",
       "      <td>128,52</td>\n",
       "    </tr>\n",
       "  </tbody>\n",
       "</table>\n",
       "</div>"
      ],
      "text/plain": [
       "           tanggal kurs_jual kurs_beli\n",
       "0  02 Januari 2019    132,89    131,54\n",
       "1  03 Januari 2019    135,44    134,08\n",
       "2  04 Januari 2019    133,51    132,17\n",
       "3  07 Januari 2019    130,86    129,51\n",
       "4  08 Januari 2019    129,84    128,52"
      ]
     },
     "execution_count": 9,
     "metadata": {},
     "output_type": "execute_result"
    }
   ],
   "source": [
    "import pandas as pd\n",
    "\n",
    "df = pd.DataFrame(temp, columns = ('tanggal', 'kurs_jual', 'kurs_beli'))\n",
    "df.head()"
   ]
  },
  {
   "cell_type": "markdown",
   "metadata": {},
   "source": [
    "#### Mengganti tanda koma pada nilai-nilai di kolom `kurs_jual` dan `kurs_beli` menjadi titik agar dapat diolah dalam bentuk `float64`"
   ]
  },
  {
   "cell_type": "code",
   "execution_count": 10,
   "metadata": {},
   "outputs": [
    {
     "data": {
      "text/html": [
       "<div>\n",
       "<style scoped>\n",
       "    .dataframe tbody tr th:only-of-type {\n",
       "        vertical-align: middle;\n",
       "    }\n",
       "\n",
       "    .dataframe tbody tr th {\n",
       "        vertical-align: top;\n",
       "    }\n",
       "\n",
       "    .dataframe thead th {\n",
       "        text-align: right;\n",
       "    }\n",
       "</style>\n",
       "<table border=\"1\" class=\"dataframe\">\n",
       "  <thead>\n",
       "    <tr style=\"text-align: right;\">\n",
       "      <th></th>\n",
       "      <th>tanggal</th>\n",
       "      <th>kurs_jual</th>\n",
       "      <th>kurs_beli</th>\n",
       "    </tr>\n",
       "  </thead>\n",
       "  <tbody>\n",
       "    <tr>\n",
       "      <th>0</th>\n",
       "      <td>02 Januari 2019</td>\n",
       "      <td>132.89</td>\n",
       "      <td>131.54</td>\n",
       "    </tr>\n",
       "    <tr>\n",
       "      <th>1</th>\n",
       "      <td>03 Januari 2019</td>\n",
       "      <td>135.44</td>\n",
       "      <td>134.08</td>\n",
       "    </tr>\n",
       "    <tr>\n",
       "      <th>2</th>\n",
       "      <td>04 Januari 2019</td>\n",
       "      <td>133.51</td>\n",
       "      <td>132.17</td>\n",
       "    </tr>\n",
       "    <tr>\n",
       "      <th>3</th>\n",
       "      <td>07 Januari 2019</td>\n",
       "      <td>130.86</td>\n",
       "      <td>129.51</td>\n",
       "    </tr>\n",
       "    <tr>\n",
       "      <th>4</th>\n",
       "      <td>08 Januari 2019</td>\n",
       "      <td>129.84</td>\n",
       "      <td>128.52</td>\n",
       "    </tr>\n",
       "  </tbody>\n",
       "</table>\n",
       "</div>"
      ],
      "text/plain": [
       "           tanggal kurs_jual kurs_beli\n",
       "0  02 Januari 2019    132.89    131.54\n",
       "1  03 Januari 2019    135.44    134.08\n",
       "2  04 Januari 2019    133.51    132.17\n",
       "3  07 Januari 2019    130.86    129.51\n",
       "4  08 Januari 2019    129.84    128.52"
      ]
     },
     "execution_count": 10,
     "metadata": {},
     "output_type": "execute_result"
    }
   ],
   "source": [
    "df['kurs_jual'] = df['kurs_jual'].str.replace(\",\",\".\")\n",
    "df['kurs_beli'] = df['kurs_beli'].str.replace(\",\",\".\")\n",
    "\n",
    "df.head()"
   ]
  },
  {
   "cell_type": "markdown",
   "metadata": {},
   "source": [
    "#### Mengubah format tanggal\n",
    "- Semula dalam format bahasa Indonesia\n",
    "- Menjadi format bahasa Inggris"
   ]
  },
  {
   "cell_type": "code",
   "execution_count": 11,
   "metadata": {},
   "outputs": [],
   "source": [
    "import dateparser\n",
    "\n",
    "df['tanggal'] = df['tanggal'].apply(lambda x: dateparser.parse(x))"
   ]
  },
  {
   "cell_type": "code",
   "execution_count": 12,
   "metadata": {},
   "outputs": [
    {
     "data": {
      "text/html": [
       "<div>\n",
       "<style scoped>\n",
       "    .dataframe tbody tr th:only-of-type {\n",
       "        vertical-align: middle;\n",
       "    }\n",
       "\n",
       "    .dataframe tbody tr th {\n",
       "        vertical-align: top;\n",
       "    }\n",
       "\n",
       "    .dataframe thead th {\n",
       "        text-align: right;\n",
       "    }\n",
       "</style>\n",
       "<table border=\"1\" class=\"dataframe\">\n",
       "  <thead>\n",
       "    <tr style=\"text-align: right;\">\n",
       "      <th></th>\n",
       "      <th>tanggal</th>\n",
       "      <th>kurs_jual</th>\n",
       "      <th>kurs_beli</th>\n",
       "    </tr>\n",
       "  </thead>\n",
       "  <tbody>\n",
       "    <tr>\n",
       "      <th>0</th>\n",
       "      <td>2019-01-02</td>\n",
       "      <td>132.89</td>\n",
       "      <td>131.54</td>\n",
       "    </tr>\n",
       "    <tr>\n",
       "      <th>1</th>\n",
       "      <td>2019-01-03</td>\n",
       "      <td>135.44</td>\n",
       "      <td>134.08</td>\n",
       "    </tr>\n",
       "    <tr>\n",
       "      <th>2</th>\n",
       "      <td>2019-01-04</td>\n",
       "      <td>133.51</td>\n",
       "      <td>132.17</td>\n",
       "    </tr>\n",
       "    <tr>\n",
       "      <th>3</th>\n",
       "      <td>2019-01-07</td>\n",
       "      <td>130.86</td>\n",
       "      <td>129.51</td>\n",
       "    </tr>\n",
       "    <tr>\n",
       "      <th>4</th>\n",
       "      <td>2019-01-08</td>\n",
       "      <td>129.84</td>\n",
       "      <td>128.52</td>\n",
       "    </tr>\n",
       "  </tbody>\n",
       "</table>\n",
       "</div>"
      ],
      "text/plain": [
       "     tanggal kurs_jual kurs_beli\n",
       "0 2019-01-02    132.89    131.54\n",
       "1 2019-01-03    135.44    134.08\n",
       "2 2019-01-04    133.51    132.17\n",
       "3 2019-01-07    130.86    129.51\n",
       "4 2019-01-08    129.84    128.52"
      ]
     },
     "execution_count": 12,
     "metadata": {},
     "output_type": "execute_result"
    }
   ],
   "source": [
    "df.head()"
   ]
  },
  {
   "cell_type": "markdown",
   "metadata": {},
   "source": [
    "#### Mengubah tipe data `kurs_jual` dan `kurs_beli`\n",
    "- Semula tipe data `string`\n",
    "- Menjadi tipe data `float64`"
   ]
  },
  {
   "cell_type": "code",
   "execution_count": 13,
   "metadata": {},
   "outputs": [
    {
     "data": {
      "text/plain": [
       "tanggal      datetime64[ns]\n",
       "kurs_jual           float64\n",
       "kurs_beli           float64\n",
       "dtype: object"
      ]
     },
     "execution_count": 13,
     "metadata": {},
     "output_type": "execute_result"
    }
   ],
   "source": [
    "df[['kurs_jual', 'kurs_beli']] = df[['kurs_jual', 'kurs_beli']].astype('float64')\n",
    "\n",
    "df.dtypes"
   ]
  },
  {
   "cell_type": "markdown",
   "metadata": {},
   "source": [
    "#### Membuat kolom baru `periode` (bulan)\n",
    "- Menggunakan `.dt.to_period('M')` untuk mendapatkan periode bulan dari kolom `tanggal`\n",
    "- Tujuannya untuk mendapatkan analisis data yang lebih informatif"
   ]
  },
  {
   "cell_type": "code",
   "execution_count": 14,
   "metadata": {
    "scrolled": false
   },
   "outputs": [
    {
     "data": {
      "text/html": [
       "<div>\n",
       "<style scoped>\n",
       "    .dataframe tbody tr th:only-of-type {\n",
       "        vertical-align: middle;\n",
       "    }\n",
       "\n",
       "    .dataframe tbody tr th {\n",
       "        vertical-align: top;\n",
       "    }\n",
       "\n",
       "    .dataframe thead th {\n",
       "        text-align: right;\n",
       "    }\n",
       "</style>\n",
       "<table border=\"1\" class=\"dataframe\">\n",
       "  <thead>\n",
       "    <tr style=\"text-align: right;\">\n",
       "      <th></th>\n",
       "      <th>tanggal</th>\n",
       "      <th>kurs_jual</th>\n",
       "      <th>kurs_beli</th>\n",
       "      <th>periode</th>\n",
       "    </tr>\n",
       "  </thead>\n",
       "  <tbody>\n",
       "    <tr>\n",
       "      <th>0</th>\n",
       "      <td>2019-01-02</td>\n",
       "      <td>132.89</td>\n",
       "      <td>131.54</td>\n",
       "      <td>2019-01</td>\n",
       "    </tr>\n",
       "    <tr>\n",
       "      <th>1</th>\n",
       "      <td>2019-01-03</td>\n",
       "      <td>135.44</td>\n",
       "      <td>134.08</td>\n",
       "      <td>2019-01</td>\n",
       "    </tr>\n",
       "    <tr>\n",
       "      <th>2</th>\n",
       "      <td>2019-01-04</td>\n",
       "      <td>133.51</td>\n",
       "      <td>132.17</td>\n",
       "      <td>2019-01</td>\n",
       "    </tr>\n",
       "    <tr>\n",
       "      <th>3</th>\n",
       "      <td>2019-01-07</td>\n",
       "      <td>130.86</td>\n",
       "      <td>129.51</td>\n",
       "      <td>2019-01</td>\n",
       "    </tr>\n",
       "    <tr>\n",
       "      <th>4</th>\n",
       "      <td>2019-01-08</td>\n",
       "      <td>129.84</td>\n",
       "      <td>128.52</td>\n",
       "      <td>2019-01</td>\n",
       "    </tr>\n",
       "  </tbody>\n",
       "</table>\n",
       "</div>"
      ],
      "text/plain": [
       "     tanggal  kurs_jual  kurs_beli  periode\n",
       "0 2019-01-02     132.89     131.54  2019-01\n",
       "1 2019-01-03     135.44     134.08  2019-01\n",
       "2 2019-01-04     133.51     132.17  2019-01\n",
       "3 2019-01-07     130.86     129.51  2019-01\n",
       "4 2019-01-08     129.84     128.52  2019-01"
      ]
     },
     "execution_count": 14,
     "metadata": {},
     "output_type": "execute_result"
    }
   ],
   "source": [
    "df['periode'] = df['tanggal'].dt.to_period('M')\n",
    "df.head()"
   ]
  },
  {
   "cell_type": "markdown",
   "metadata": {},
   "source": [
    "#### Menjadikan kolom `tanggal` sebagai index\n",
    "- Untuk menghasilkan grafik nilai tukar JPY (y-axis) berdasarkan `tanggal` (x-axis)"
   ]
  },
  {
   "cell_type": "code",
   "execution_count": 15,
   "metadata": {},
   "outputs": [],
   "source": [
    "kurs_tanggal = df.set_index(\"tanggal\")"
   ]
  },
  {
   "cell_type": "code",
   "execution_count": 16,
   "metadata": {},
   "outputs": [
    {
     "data": {
      "text/html": [
       "<div>\n",
       "<style scoped>\n",
       "    .dataframe tbody tr th:only-of-type {\n",
       "        vertical-align: middle;\n",
       "    }\n",
       "\n",
       "    .dataframe tbody tr th {\n",
       "        vertical-align: top;\n",
       "    }\n",
       "\n",
       "    .dataframe thead th {\n",
       "        text-align: right;\n",
       "    }\n",
       "</style>\n",
       "<table border=\"1\" class=\"dataframe\">\n",
       "  <thead>\n",
       "    <tr style=\"text-align: right;\">\n",
       "      <th></th>\n",
       "      <th>kurs_jual</th>\n",
       "      <th>kurs_beli</th>\n",
       "      <th>periode</th>\n",
       "    </tr>\n",
       "    <tr>\n",
       "      <th>tanggal</th>\n",
       "      <th></th>\n",
       "      <th></th>\n",
       "      <th></th>\n",
       "    </tr>\n",
       "  </thead>\n",
       "  <tbody>\n",
       "    <tr>\n",
       "      <th>2019-01-02</th>\n",
       "      <td>132.89</td>\n",
       "      <td>131.54</td>\n",
       "      <td>2019-01</td>\n",
       "    </tr>\n",
       "    <tr>\n",
       "      <th>2019-01-03</th>\n",
       "      <td>135.44</td>\n",
       "      <td>134.08</td>\n",
       "      <td>2019-01</td>\n",
       "    </tr>\n",
       "    <tr>\n",
       "      <th>2019-01-04</th>\n",
       "      <td>133.51</td>\n",
       "      <td>132.17</td>\n",
       "      <td>2019-01</td>\n",
       "    </tr>\n",
       "    <tr>\n",
       "      <th>2019-01-07</th>\n",
       "      <td>130.86</td>\n",
       "      <td>129.51</td>\n",
       "      <td>2019-01</td>\n",
       "    </tr>\n",
       "    <tr>\n",
       "      <th>2019-01-08</th>\n",
       "      <td>129.84</td>\n",
       "      <td>128.52</td>\n",
       "      <td>2019-01</td>\n",
       "    </tr>\n",
       "  </tbody>\n",
       "</table>\n",
       "</div>"
      ],
      "text/plain": [
       "            kurs_jual  kurs_beli  periode\n",
       "tanggal                                  \n",
       "2019-01-02     132.89     131.54  2019-01\n",
       "2019-01-03     135.44     134.08  2019-01\n",
       "2019-01-04     133.51     132.17  2019-01\n",
       "2019-01-07     130.86     129.51  2019-01\n",
       "2019-01-08     129.84     128.52  2019-01"
      ]
     },
     "execution_count": 16,
     "metadata": {},
     "output_type": "execute_result"
    }
   ],
   "source": [
    "kurs_tanggal.head()"
   ]
  },
  {
   "cell_type": "markdown",
   "metadata": {},
   "source": [
    "#### Membuat grafik nilai tukar JPY (y-axis) berdasarkan `tanggal` (x-axis)\n",
    "- Menggunakan `.plot()` untuk membuat grafik garis"
   ]
  },
  {
   "cell_type": "code",
   "execution_count": 17,
   "metadata": {},
   "outputs": [
    {
     "data": {
      "text/plain": [
       "<matplotlib.axes._subplots.AxesSubplot at 0x12542c940>"
      ]
     },
     "execution_count": 17,
     "metadata": {},
     "output_type": "execute_result"
    },
    {
     "data": {
      "image/png": "[encoded data removed]",
      "text/plain": [
       "<Figure size 432x288 with 1 Axes>"
      ]
     },
     "metadata": {
      "needs_background": "light"
     },
     "output_type": "display_data"
    }
   ],
   "source": [
    "kurs_tanggal.plot()"
   ]
  },
  {
   "cell_type": "markdown",
   "metadata": {},
   "source": [
    "#### Menyiapkan sebuah `DataFrame` untuk merepresentasikan nilai tukar JPY berdasarkan `periode` bulan\n",
    "- Tujuannya agar grafik lebih mudah dibaca dan menghasilkan analisis yang lebih berarti\n",
    "- Menggunakan `.groupby` untuk mengelompokkan nilai kurs JPY berdasarkan `periode` bulan\n",
    "- Hasil pengelompokan nilai kurs JPY mengambil nilai rata-rata untuk merepresentasikan nilai tukar JPY pada `periode` bulan tertentu"
   ]
  },
  {
   "cell_type": "code",
   "execution_count": 18,
   "metadata": {},
   "outputs": [],
   "source": [
    "kurs_periode = df.groupby('periode').mean().round(2)"
   ]
  },
  {
   "cell_type": "code",
   "execution_count": 19,
   "metadata": {},
   "outputs": [
    {
     "data": {
      "text/html": [
       "<div>\n",
       "<style scoped>\n",
       "    .dataframe tbody tr th:only-of-type {\n",
       "        vertical-align: middle;\n",
       "    }\n",
       "\n",
       "    .dataframe tbody tr th {\n",
       "        vertical-align: top;\n",
       "    }\n",
       "\n",
       "    .dataframe thead th {\n",
       "        text-align: right;\n",
       "    }\n",
       "</style>\n",
       "<table border=\"1\" class=\"dataframe\">\n",
       "  <thead>\n",
       "    <tr style=\"text-align: right;\">\n",
       "      <th></th>\n",
       "      <th>kurs_jual</th>\n",
       "      <th>kurs_beli</th>\n",
       "    </tr>\n",
       "    <tr>\n",
       "      <th>periode</th>\n",
       "      <th></th>\n",
       "      <th></th>\n",
       "    </tr>\n",
       "  </thead>\n",
       "  <tbody>\n",
       "    <tr>\n",
       "      <th>2019-01</th>\n",
       "      <td>130.75</td>\n",
       "      <td>129.42</td>\n",
       "    </tr>\n",
       "    <tr>\n",
       "      <th>2019-02</th>\n",
       "      <td>127.86</td>\n",
       "      <td>126.57</td>\n",
       "    </tr>\n",
       "    <tr>\n",
       "      <th>2019-03</th>\n",
       "      <td>128.52</td>\n",
       "      <td>127.22</td>\n",
       "    </tr>\n",
       "    <tr>\n",
       "      <th>2019-04</th>\n",
       "      <td>127.37</td>\n",
       "      <td>126.07</td>\n",
       "    </tr>\n",
       "    <tr>\n",
       "      <th>2019-05</th>\n",
       "      <td>131.47</td>\n",
       "      <td>130.14</td>\n",
       "    </tr>\n",
       "  </tbody>\n",
       "</table>\n",
       "</div>"
      ],
      "text/plain": [
       "         kurs_jual  kurs_beli\n",
       "periode                      \n",
       "2019-01     130.75     129.42\n",
       "2019-02     127.86     126.57\n",
       "2019-03     128.52     127.22\n",
       "2019-04     127.37     126.07\n",
       "2019-05     131.47     130.14"
      ]
     },
     "execution_count": 19,
     "metadata": {},
     "output_type": "execute_result"
    }
   ],
   "source": [
    "kurs_periode.head()"
   ]
  },
  {
   "cell_type": "markdown",
   "metadata": {},
   "source": [
    "#### Membuat grafik nilai tukar Yen (y-axis) berdasarkan `periode`/bulan (x-axis)\n",
    "- Menggunakan `.plot()` untuk membuat grafik garis"
   ]
  },
  {
   "cell_type": "code",
   "execution_count": 20,
   "metadata": {},
   "outputs": [
    {
     "data": {
      "text/plain": [
       "<matplotlib.axes._subplots.AxesSubplot at 0x127612730>"
      ]
     },
     "execution_count": 20,
     "metadata": {},
     "output_type": "execute_result"
    },
    {
     "data": {
      "image/png": "[encoded data removed]",
      "text/plain": [
       "<Figure size 432x288 with 1 Axes>"
      ]
     },
     "metadata": {
      "needs_background": "light"
     },
     "output_type": "display_data"
    }
   ],
   "source": [
    "kurs_periode.plot()"
   ]
  },
  {
   "cell_type": "markdown",
   "metadata": {},
   "source": [
    "#### Analisis Data\n",
    "- Nilai tukar JPY mengalami tren menurun pada kuartal pertama 2019\n",
    "- Nilai tukar JPY mengalami tren pergerakan naik pada kuartal kedua dan ketiga 2019\n",
    "    - ada pergerakan turun sesaat dari bulan Juni sampai dengan Juli\n",
    "- Mulai pertengahan kuartal ketiga pergerakan nilai tukar JPY terus mengalami penurunan hingga akhir tahun 2019\n",
    "- Rata-rata nilai tukar terendah JPY di tahun 2019 terjadi pada bulan April\n",
    "- Rata-rata nilai tukar JPY tertinggi di tahun 2019 terjadi pada bulan Agustus\n",
    "    - Sebuah fakta menarik bahwa bulan Agustus merupakan periode Obon (お盆) atau Bon (盆), di mana terdapat serangkaian upacara dan tradisi di Jepang untuk merayakan kedatangan arwah leluhur\n",
    "    - Bulan Agustus merupakan periode yang ramai dengan perayaan dan festival, serta termasuk periode paling mahal untuk traveling ke Jepang\n",
    "    - Source:\n",
    "        - https://www.japan.travel/en/guide/august/\n",
    "        - https://jw-webmagazine.com/top-10-things-to-do-in-japan-in-august-2c41ca622591/\n"
   ]
  }
 ],
 "metadata": {
  "kernelspec": {
   "display_name": "Python [conda env:webscraping]",
   "language": "python",
   "name": "conda-env-webscraping-py"
  },
  "language_info": {
   "codemirror_mode": {
    "name": "ipython",
    "version": 3
   },
   "file_extension": ".py",
   "mimetype": "text/x-python",
   "name": "python",
   "nbconvert_exporter": "python",
   "pygments_lexer": "ipython3",
   "version": "3.8.2"
  },
  "toc": {
   "base_numbering": 1,
   "nav_menu": {},
   "number_sections": true,
   "sideBar": true,
   "skip_h1_title": false,
   "title_cell": "Table of Contents",
   "title_sidebar": "Contents",
   "toc_cell": false,
   "toc_position": {},
   "toc_section_display": true,
   "toc_window_display": false
  }
 },
 "nbformat": 4,
 "nbformat_minor": 4
}
